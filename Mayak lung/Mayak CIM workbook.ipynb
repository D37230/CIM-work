{
 "cells": [
  {
   "cell_type": "code",
   "execution_count": 1,
   "metadata": {
    "collapsed": false
   },
   "outputs": [],
   "source": [
    "# load some standard libraries\n",
    "import os\n",
    "import sys\n",
    "import time\n",
    "import numpy as np   # numerical methods\n",
    "import h5py  # Hdf5 library"
   ]
  },
  {
   "cell_type": "markdown",
   "metadata": {},
   "source": [
    "# Define mygithub and hdf5path directories and all else should be fine"
   ]
  },
  {
   "cell_type": "code",
   "execution_count": 2,
   "metadata": {
    "collapsed": false
   },
   "outputs": [],
   "source": [
    "\n",
    "mygithub = 'C:/Users/Dale/Documents/GitHub/'\n",
    "projdir = mygithub + 'CIM-work/Mayak lung/'\n",
    "hdf5path = 'k:/UralsDosimetry/'\n",
    "modinfodir = hdf5path + 'mayak/mwds16lung/'\n",
    "rlzdir = hdf5path + 'mayak/mwds2016/'\n",
    "os.chdir(projdir)\n",
    "sys.path.append('../pythonutils')\n",
    "\n",
    "# import utility functions for this applicaiton\n",
    "\n",
    "from psvdict2 import modeleval, getmodinfo, calc_fvalues, showfittedcases\n",
    "from doseintfun import setdoseintinfo, doseinterp\n",
    "from cimfuncs import mkcim, getCI, dispcimbnds, mkQmat, modcimprmbnds\n",
    "\n"
   ]
  },
  {
   "cell_type": "markdown",
   "metadata": {},
   "source": [
    "# Set up hdf5 file"
   ]
  },
  {
   "cell_type": "code",
   "execution_count": 3,
   "metadata": {
    "collapsed": false
   },
   "outputs": [],
   "source": [
    "\n",
    "irlzfn = 'res_ad13(final).h5'\n",
    "irlzdb = h5py.File(rlzdir + irlzfn, 'r')\n",
    "\n",
    "# associative array for access to internal dose person-specific info\n",
    "ipeople_list = irlzdb['sumstat/idlist'][:]  # list of ids in row order\n",
    "ipeople = len(ipeople_list)\n",
    "ipindx = {}\n",
    "for i, prsn in enumerate(ipeople_list):\n",
    "    ipindx[str(prsn)] = int(i)\n",
    "\n",
    "# associative array for access to internal dose oragns\n",
    "iorgs_list = irlzdb['sumstat/orglist'][:]  # list of organs with doses\n",
    "iorgs = len(iorgs_list)\n",
    "iorgindx = {}\n",
    "for i, org in enumerate(iorgs_list):\n",
    "    iorgindx[org] = int(i)\n",
    "# earliest internal exposure year (column 1)\n",
    "ifromyr = irlzdb['sumstat'].attrs['fromyr']\n",
    "# last exposure year\n",
    "itoyr = irlzdb['sumstat'].attrs['toyr']\n",
    "inyrs = itoyr - (ifromyr) + 1\n",
    "\n",
    "# get dose units and set dose scvalar factor (models are fit using dose in Gy)\n",
    "dsunits = irlzdb['sumstat/doses'].attrs['units']\n",
    "dscale = 1\n",
    "if dsunits == 'mGy':\n",
    "    dscale = 1000\n",
    "elif dsunits == 'cGy':\n",
    "    dscale == 100\n",
    "elif dsunits == \"Gy\":\n",
    "    dscale = 1\n",
    "\n",
    "# define lung dose layer\n",
    "lngidx = iorgindx['LUNG']\n"
   ]
  },
  {
   "cell_type": "code",
   "execution_count": 4,
   "metadata": {
    "collapsed": false
   },
   "outputs": [],
   "source": [
    "\n",
    "# associative array for access to internal dose person-specific info\n",
    "ipeople_list = irlzdb['sumstat/idlist'][:]  # list of ids in row order\n",
    "ipeople = len(ipeople_list)\n",
    "ipindx = {}\n",
    "for i, prsn in enumerate(ipeople_list):\n",
    "    ipindx[str(prsn)] = int(i)\n",
    "\n",
    "# associative array for access to internal dose oragns\n",
    "iorgs_list = irlzdb['sumstat/orglist'][:]  # list of organs with doses\n",
    "iorgs = len(iorgs_list)\n",
    "iorgindx = {}\n",
    "for i, org in enumerate(iorgs_list):\n",
    "    iorgindx[org] = int(i)\n",
    "# earliest internal exposure year (column 1)\n",
    "ifromyr = irlzdb['sumstat'].attrs['fromyr']\n",
    "# last exposure year\n",
    "itoyr = irlzdb['sumstat'].attrs['toyr']\n",
    "inyrs = itoyr - (ifromyr) + 1\n",
    "\n",
    "# get dose units and set dose scvalar factor (models are fit using dose in Gy)\n",
    "dsunits = irlzdb['sumstat/doses'].attrs['units']\n",
    "dscale = 1\n",
    "if dsunits == 'mGy':\n",
    "    dscale = 1000\n",
    "elif dsunits == 'cGy':\n",
    "    dscale == 100\n",
    "elif dsunits == \"Gy\":\n",
    "    dscale = 1\n",
    "\n",
    "# define lung dose layer\n",
    "lngidx = iorgindx['LUNG']"
   ]
  },
  {
   "cell_type": "markdown",
   "metadata": {},
   "source": [
    "# Open ungrouped data file from modinfodir"
   ]
  },
  {
   "cell_type": "code",
   "execution_count": 5,
   "metadata": {
    "collapsed": false
   },
   "outputs": [
    {
     "name": "stdout",
     "output_type": "stream",
     "text": [
      "Ungrouped record count: 1084549\n"
     ]
    }
   ],
   "source": [
    "ungfname = 'lunpyung.csv'\n",
    "mwcung = np.genfromtxt(modinfodir + ungfname, delimiter=',', names=True)\n",
    "\n",
    "print \"Ungrouped record count:\", len(mwcung)"
   ]
  },
  {
   "cell_type": "markdown",
   "metadata": {},
   "source": [
    "## Define subset selection variables "
   ]
  },
  {
   "cell_type": "code",
   "execution_count": 6,
   "metadata": {
    "collapsed": false
   },
   "outputs": [
    {
     "name": "stdout",
     "output_type": "stream",
     "text": [
      "Monitored only      94068 \n",
      "Monitored or Re/Aux 429748\n"
     ]
    }
   ],
   "source": [
    "reaux = mwcung['mxplant83'] <= 4\n",
    "premon2 =(mwcung['tsmcat'] < 3) + 0\n",
    "hasmon = premon2 == 0\n",
    "hasmonre= reaux |  ( premon2==0)\n",
    "\n",
    "print  \"Monitored only     \",np.sum(hasmon), \n",
    "print  \"\\nMonitored or Re/Aux\", np.sum(hasmonre)"
   ]
  },
  {
   "cell_type": "markdown",
   "metadata": {},
   "source": [
    "## Set model form and analysis subset"
   ]
  },
  {
   "cell_type": "code",
   "execution_count": 7,
   "metadata": {
    "collapsed": false
   },
   "outputs": [
    {
     "name": "stdout",
     "output_type": "stream",
     "text": [
      "1084549 records in anlaysis subset\n"
     ]
    }
   ],
   "source": [
    "'''\n",
    "    umod = 0 | 3   # male + F:M sex ratio model\n",
    "    umod = 1 | 4   # female + M\"F sex ratio model\n",
    "    umod = 2 | 5   # male +_ female dose effect model\n",
    "    \n",
    "    msub = 0 # all data with Pu Surrogate\n",
    "    msub = 1 # Monitored + Re/Aux\n",
    "    msub = 2 # Montored workers only\n",
    "\n",
    "'''\n",
    "msub = 0\n",
    "umod = 0\n",
    "psvname = 'mwds16pualtmods.psv'\n",
    "\n",
    "tnames = [\"Baseline\", \"Smoking\", \"External dose\", \"Pu Surrogate\" ,\"Pu dose\"]\n",
    "if msub == 1:\n",
    "    mwcungsub = mwcung[hasmonre]\n",
    "    modidx = umod\n",
    "elif msub == 2:\n",
    "    mwcungsub = mwcung[hasmon]\n",
    "    umod = umod\n",
    "    modidx = umod+3\n",
    "else:\n",
    "    mwcungsub = mwcung\n",
    "    psvname = 'mwds16pu.psv' \n",
    "    modidx = umod\n",
    "    tnames = [\"Baseline\", \"Smoking\", \"External dose\", \"Pu Surrogate\" ,\"Pu dose\"]\n",
    "    \n",
    "print len(mwcungsub), 'records in anlaysis subset'\n"
   ]
  },
  {
   "cell_type": "markdown",
   "metadata": {},
   "source": [
    "## Read PSV file"
   ]
  },
  {
   "cell_type": "code",
   "execution_count": 8,
   "metadata": {
    "collapsed": false
   },
   "outputs": [
    {
     "name": "stdout",
     "output_type": "stream",
     "text": [
      "model  0 M  + F:M sex ratio mult ERR 170729\n",
      "model  1 F + M:F sex ratio mult ERR 170729\n",
      "model  2 M  + F mult ERR 170729\n",
      "CIM computation model: M  + F:M sex ratio mult ERR 170729\n"
     ]
    }
   ],
   "source": [
    "psavef = open(modinfodir + psvname, 'r')\n",
    "models = getmodinfo(psavef)\n",
    "for mno in range(len(models)):\n",
    "    print \"model \",mno,models[mno]['title']\n",
    "psavef.close()\n",
    "\n",
    "print \"CIM computation model:\", models[umod]['title']"
   ]
  },
  {
   "cell_type": "markdown",
   "metadata": {},
   "source": [
    "## Get basic info for internal dose interpolation and interpolate mean doses"
   ]
  },
  {
   "cell_type": "code",
   "execution_count": 9,
   "metadata": {
    "collapsed": false
   },
   "outputs": [],
   "source": [
    "lag = 5\n",
    "imdinfo = setdoseintinfo(ipindx, mwcungsub, 'udbid', 'yr', lag, ifromyr, itoyr)\n",
    "idbar = doseinterp(irlzdb, 'sumstat', 'doses/am', imdinfo, scale=dscale, dlayer=lngidx)\n"
   ]
  },
  {
   "cell_type": "markdown",
   "metadata": {},
   "source": [
    "## Define model covariates"
   ]
  },
  {
   "cell_type": "code",
   "execution_count": 10,
   "metadata": {
    "collapsed": false
   },
   "outputs": [
    {
     "name": "stdout",
     "output_type": "stream",
     "text": [
      "Total cases:     930\n"
     ]
    }
   ],
   "source": [
    "\n",
    "male = np.reshape(((mwcungsub['sex'] == 0) + 0),(-1,1))\n",
    "female = 1 - male\n",
    "age = np.reshape(mwcungsub['age'],(-1,1))\n",
    "lage70 = np.log(age /70)\n",
    "lage70sq = lage70*lage70\n",
    "unksmk = np.reshape((mwcungsub['smkcat'] == 1) + 0,(-1,1))\n",
    "munksmk = male * unksmk\n",
    "smoker = np.reshape(((mwcungsub['smkcat'] == 3) + 0),(-1,1))\n",
    "neversmk = np.reshape(((mwcungsub['smkcat'] == 2) + 0),(-1,1))\n",
    "smkppd =np.reshape(mwcungsub['ppd'],(-1,1)) * (1 - unksmk)\n",
    "smkdur =  (age - np.reshape(mwcungsub['smkstart'],(-1,1)))* smoker\n",
    "smkdur = smkdur * (smkdur > 0)\n",
    "packyrs = smkppd * smkdur * smoker\n",
    "pky50 = packyrs/50\n",
    "lppd = np.log(smkppd * smoker + unksmk + neversmk)\n",
    "\n",
    " \n",
    "premon2 = (np.reshape(mwcungsub['tsmcat'],(-1,1)) < 2) + 0\n",
    "postmon2 = 1 - premon2\n",
    "pudgy = np.reshape((mwcungsub['lag5id']/1000),(-1,1)) \n",
    "\n",
    "xdgy =np.reshape(( mwcungsub['lag5ed']/1000),(-1,1)) \n",
    "postpudgy = pudgy * postmon2\n",
    "mpudgy = male * postpudgy\n",
    "fpudgy = female * postpudgy\n",
    "\n",
    "presur = premon2 * np.reshape(mwcungsub['pusur'],(-1,1))\n",
    "presur0 = presur == 0\n",
    "presur1 = presur == 1\n",
    "presur2 = presur == 2\n",
    "presur3 = presur == 3\n",
    "presur4 = presur == 4\n",
    "presur5 = presur == 5\n",
    "presur6 = presur == 6\n",
    "fpusur6 = female * presur6\n",
    "\n",
    "pyr = np.reshape((np.array(mwcungsub['pyr']/10000.)),(-1,1))\n",
    "cases = np.reshape(mwcungsub['lung'],(-1,1))\n",
    "\n",
    "mxplant83 = np.reshape(mwcungsub['mxplant83'],(-1,1))\n",
    "reaux = mxplant83 < 5 \n",
    "\n",
    "print \"Total cases: \", '%6.0d' % np.sum(cases)\n"
   ]
  },
  {
   "cell_type": "markdown",
   "metadata": {
    "collapsed": false
   },
   "source": [
    "## Define model-specific subterm covariate vector list"
   ]
  },
  {
   "cell_type": "code",
   "execution_count": 11,
   "metadata": {
    "collapsed": false
   },
   "outputs": [
    {
     "name": "stdout",
     "output_type": "stream",
     "text": [
      "\n",
      "Analysis model: M  + F:M sex ratio mult ERR 170729 with 7\n",
      "Subterm covariate lists: 7\n"
     ]
    }
   ],
   "source": [
    "stcovs = []\n",
    "# baseline covariates (LOGL 0)\n",
    "stcovs.append(np.column_stack((male, female, lage70, lage70sq)))\n",
    "\n",
    "# smoking covariates Line 1 + LOGL 1\n",
    "stcovs.append(np.column_stack((pky50, munksmk)))\n",
    "stcovs.append(np.row_stack((lppd)))\n",
    "\n",
    "# external dose LINE 2\n",
    "stcovs.append(np.row_stack((xdgy)))\n",
    "\n",
    "if msub==0:\n",
    "    # pusur (preemonitoring)\n",
    "    stcovs.append(np.column_stack((presur0, presur1, presur2, presur3, presur4, presur5, presur6, fpusur6)))\n",
    "\n",
    "# Pu dose \n",
    "if (umod == 2):\n",
    "    stcovs.append(np.column_stack((mpudgy, fpudgy)))\n",
    "    \n",
    "    \n",
    "elif (umod == 0 ):\n",
    "    stcovs.append(np.row_stack((pudgy)))\n",
    "    stcovs.append(np.row_stack((female)))\n",
    "elif (umod == 1 ):\n",
    "    stcovs.append(np.row_stack((pudgy)))\n",
    "    stcovs.append(np.row_stack((male)))\n",
    "\n",
    "print '\\nAnalysis model:', models[modidx]['title'],'with',len(models[modidx]['subterms'])\n",
    "print \"Subterm covariate lists:\", len(stcovs)    \n",
    "\n"
   ]
  },
  {
   "cell_type": "markdown",
   "metadata": {},
   "source": [
    "## Fitted value computaitons for this model in these data"
   ]
  },
  {
   "cell_type": "code",
   "execution_count": 12,
   "metadata": {
    "collapsed": false,
    "scrolled": true
   },
   "outputs": [
    {
     "name": "stdout",
     "output_type": "stream",
     "text": [
      "\n",
      "                     Observed cases:     930\n",
      "                       Fitted cases:     930.00\n",
      "              Baseline fitted cases:      149.94\n",
      "               Smoking fitted cases:      502.64\n",
      "         External dose fitted cases:       17.20\n",
      "          Pu Surrogate fitted cases:       21.39\n",
      "               Pu dose fitted cases:       27.69\n"
     ]
    }
   ],
   "source": [
    "    \n",
    "mfmodel = models[umod]  # compute subterm fitted values\n",
    "\n",
    "mfit = modeleval(mfmodel, stcovs, pyr[:, 0])\n",
    "# compute fitted value vectors\n",
    "fv = calc_fvalues(mfmodel, mfit['termvals'])\n",
    " \n",
    "showfittedcases(mfmodel,cases,fv,tnames)\n",
    "    \n",
    "mu = np.reshape(fv['fv'],(-1,1))\n",
    "resid = cases - mu\n",
    "\n"
   ]
  },
  {
   "cell_type": "markdown",
   "metadata": {},
   "source": [
    "## Computation of Q matrix\n",
    "$$ Q = \\frac{ d \\mu / d \\beta}{\\mu }$$"
   ]
  },
  {
   "cell_type": "code",
   "execution_count": 13,
   "metadata": {
    "collapsed": false
   },
   "outputs": [
    {
     "name": "stdout",
     "output_type": "stream",
     "text": [
      "Information-matrix eigenvalues\n",
      "  0 1405.81131\n",
      "  1  323.47580\n",
      "  2  203.17305\n",
      "  3  156.38676\n",
      "  4   94.20235\n",
      "  5   89.02946\n",
      "  6   87.94848\n",
      "  7   29.19034\n",
      "  8   21.84267\n",
      "  9   13.42116\n",
      " 10   12.97174\n",
      " 11    6.28722\n",
      " 12    2.65989\n",
      " 13    2.86772\n",
      " 14    0.00000\n",
      " 15    0.39635\n",
      " 16    0.36765\n",
      " 17    0.98541\n",
      "\n",
      "   pno    modse        Qse     Score\n",
      "    1    0.15669    0.17432    0.00354\n",
      "    2    0.14896    0.14940   -0.00013\n",
      "    3    0.35151    0.36031   -0.00043\n",
      "    4    0.93711    0.96485    0.00013\n",
      "    5    1.27809    1.41230    0.00037\n",
      "    6    0.95412    1.01866    0.00004\n",
      "    7    0.11516    0.10618    0.00009\n",
      "    8    0.06581    0.06649    0.00161\n",
      "   12    0.11553    0.11552    0.00032\n",
      "   13    0.11880    0.11782    0.00049\n",
      "   14    0.39229    0.39294    0.00009\n",
      "   15    0.44396    0.45496    0.00008\n",
      "   16    3.85013    3.85997   -0.00000\n",
      "   17    0.49354    0.48540   -0.00003\n",
      "   18    0.32857    0.32236   -0.00039\n"
     ]
    }
   ],
   "source": [
    "\n",
    "Q = mkQmat(stcovs, mu, mfit, mfmodel['type'])\n",
    "\n",
    "\n",
    "# score vector and information\n",
    "S = Q*resid\n",
    "parmscores = np.dot(np.transpose(Q),resid)\n",
    "info = np.dot(S.T,S)\n",
    "\n",
    "evals = np.linalg.eigvals(info)\n",
    "print \"Information-matrix eigenvalues\"\n",
    "for i in range(len(evals)):\n",
    "    print '%3d' % i, '%10.5f' % evals[i]\n",
    "print\n",
    "\n",
    "# parameter SEs from fit (psv file)\n",
    "modprmses = np.sqrt(np.diag(mfmodel['prmcov']))\n",
    "\n",
    "parms = info.shape[0]\n",
    "prmidx = np.array(range(parms))+1\n",
    "freeparm = 1 - mfmodel['prmstat'][0:parms]\n",
    "uparm = prmidx * freeparm\n",
    "pscore = parmscores[uparm>0]\n",
    "uparm = uparm[uparm>0]-1\n",
    "\n",
    "modprmses = modprmses[modprmses>0]\n",
    "\n",
    "infosub = info[np.ix_(uparm,uparm)]\n",
    "covmat = np.linalg.inv(infosub)\n",
    "parmses = np.sqrt(np.diag(covmat))\n",
    "print \"   pno    modse        Qse     Score\"\n",
    "for i in range(len(parmses)):\n",
    "    print '%5d' % (uparm[i]+1), '%10.5f' % modprmses[i], '%10.5f' %  parmses[i], '%10.5f' % pscore[i][0]\n",
    "    \n",
    "\n"
   ]
  },
  {
   "cell_type": "markdown",
   "metadata": {
    "collapsed": false
   },
   "source": [
    "## G matrix for various Pu models  $$   \\frac{d \\mu}{d x}$$"
   ]
  },
  {
   "cell_type": "code",
   "execution_count": 14,
   "metadata": {
    "collapsed": false
   },
   "outputs": [],
   "source": [
    "prmcov = mfmodel['prmcov']\n",
    "prmvec = mfmodel['prmvec']\n",
    "\n",
    "haspudose =np.reshape(( reaux | (premon2==0)),(-1,1))\n",
    "\n",
    "doseterm = 3\n",
    "dp1 = 9\n",
    "dp2 = 10\n",
    "if msub == 0:\n",
    "    doseterm = 4\n",
    "    dp1 = 17\n",
    "    dp2 = 18\n",
    "    \n",
    "if umod == 0:\n",
    "    mfmodel['prmnames'][dp1-1] = 'Male Pu ERR'\n",
    "    mfmodel['prmnames'][dp2-1] = 'F:M Pu ERR sex ratio'\n",
    "elif umod == 1:\n",
    "    mfmodel['prmnames'][dp1-1] = 'Female Pu ERR'\n",
    "    mfmodel['prmnames'][dp2-1] = 'M:F Pu ERR sex ratio'\n",
    "elif umod == 2:\n",
    "    mfmodel['prmnames'][dp1-1] = 'Male Pu ERR'\n",
    "    mfmodel['prmnames'][dp2-1] = 'Female Pu ERR'   \n",
    "\n",
    "nopubase = mu/(1 + mfit['termvals'][doseterm][1])\n",
    "\n",
    "if umod == 0 :\n",
    "    dparm = np.exp(prmvec[dp2-1]*female)\n",
    "elif umod == 1 : #  F + M:F sex ratio\n",
    "    dparm = np.exp(prmvec[dp2-1]*male) \n",
    "elif umod == 2 : # sex-specific ERR\n",
    "    dparm = np.ones_like(mu) #  * prmvec[dp1]\n",
    "    # dparm[female] = prmvec[dp2] \n",
    "    # dparm = dparm * haspudose\n",
    "\n",
    "\n",
    "G = dparm * nopubase\n"
   ]
  },
  {
   "cell_type": "markdown",
   "metadata": {},
   "source": [
    "## CIM setup"
   ]
  },
  {
   "cell_type": "code",
   "execution_count": 15,
   "metadata": {
    "collapsed": false
   },
   "outputs": [
    {
     "name": "stdout",
     "output_type": "stream",
     "text": [
      "Number of realizations  1000\n",
      "(18L, 1084549L)\n",
      "100   200   300   400   500   600   700   800   900   1000  \n"
     ]
    }
   ],
   "source": [
    "irlzbase = irlzdb['realizations']\n",
    "rlzcnt = len(irlzbase.keys())\n",
    "\n",
    "prmcov = mfmodel['prmcov']\n",
    "prmvec = mfmodel['prmvec']\n",
    "\n",
    "irlzbase = irlzdb['realizations']\n",
    "rlzcnt = len(irlzbase.keys())\n",
    "\n",
    "prmcov = mfmodel['prmcov']\n",
    "prmvec = mfmodel['prmvec']\n",
    "\n",
    "\n",
    "cim = mkcim(Q, G, irlzbase, rlzcnt, 'doses', imdinfo, prmcov, dslayer=lngidx, scale = dscale)\n"
   ]
  },
  {
   "cell_type": "markdown",
   "metadata": {},
   "source": [
    "## Pu ERR CIM"
   ]
  },
  {
   "cell_type": "code",
   "execution_count": 16,
   "metadata": {
    "collapsed": false
   },
   "outputs": [
    {
     "name": "stdout",
     "output_type": "stream",
     "text": [
      "Female Pu dose response ERR:    2.879\n",
      "                Wald bounds: (  1.912 ,  3.846 )\n",
      "            Adjusted bounds: (  1.322 ,  6.919 )\n"
     ]
    }
   ],
   "source": [
    "\n",
    "mpuno = dp1-1\n",
    "mprmest = prmvec[mpuno]\n",
    "mprmse = np.sqrt(prmcov[mpuno, mpuno])\n",
    "\n",
    "mmse = np.sqrt(cim[mpuno, mpuno])\n",
    "mpucim = getCI(mprmest, mprmse, mmse, 0.05)\n",
    "mpuwald = getCI(mprmest, mprmse, 0, 0.05)\n",
    "dispcimbnds('Male Pu dose response ERR:',mprmest,mpuwald, mpucim)\n"
   ]
  },
  {
   "cell_type": "code",
   "execution_count": 18,
   "metadata": {
    "collapsed": false,
    "scrolled": false
   },
   "outputs": [
    {
     "name": "stdout",
     "output_type": "stream",
     "text": [
      "\n",
      "95 % bounds\n",
      "         \n",
      "1 male    1.721\n",
      "    Wald bounds: (  1.414 ,  2.028 )\n",
      "Adjusted bounds: (  1.409 ,  2.038 )\n",
      "       \n",
      "2 female    1.351\n",
      "    Wald bounds: (  1.060 ,  1.643 )\n",
      "Adjusted bounds: (  1.059 ,  1.644 )\n",
      "       \n",
      "3 lage70    1.592\n",
      "    Wald bounds: (  0.903 ,  2.281 )\n",
      "Adjusted bounds: (  0.902 ,  2.292 )\n",
      "     \n",
      "4 lage70sq   -7.059\n",
      "    Wald bounds: ( -8.896 , -5.222 )\n",
      "Adjusted bounds: ( -9.086 , -5.156 )\n",
      "        \n",
      "5 pky50    7.472\n",
      "    Wald bounds: (  4.967 ,  9.977 )\n",
      "Adjusted bounds: (  4.552 , 11.598 )\n",
      "      \n",
      "6 munksmk    3.720\n",
      "    Wald bounds: (  1.850 ,  5.590 )\n",
      "Adjusted bounds: (  1.825 ,  5.813 )\n",
      "         \n",
      "7 lppd   -0.232\n",
      "    Wald bounds: ( -0.458 , -0.007 )\n",
      "Adjusted bounds: ( -0.458 , -0.007 )\n",
      "         \n",
      "8 xdgy    0.232\n",
      "    Wald bounds: (  0.103 ,  0.361 )\n",
      "Adjusted bounds: (  0.103 ,  0.361 )\n",
      "\n",
      "9 presur_0 fixed/aliased\n",
      "\n",
      "10 presur_1 fixed/aliased\n",
      "\n",
      "11 presur_2 fixed/aliased\n",
      "    \n",
      "12 presur_3   -0.100\n",
      "    Wald bounds: ( -0.326 ,  0.127 )\n",
      "Adjusted bounds: ( -0.326 ,  0.127 )\n",
      "    \n",
      "13 presur_4    0.261\n",
      "    Wald bounds: (  0.028 ,  0.494 )\n",
      "Adjusted bounds: (  0.028 ,  0.494 )\n",
      "    \n",
      "14 presur_5    1.198\n",
      "    Wald bounds: (  0.429 ,  1.967 )\n",
      "Adjusted bounds: (  0.428 ,  1.984 )\n",
      "    \n",
      "15 presur_6    1.638\n",
      "    Wald bounds: (  0.768 ,  2.509 )\n",
      "Adjusted bounds: (  0.628 ,  4.011 )\n",
      "      \n",
      "16 fpsur6    9.946\n",
      "    Wald bounds: (  2.400 , 17.492 )\n",
      "Adjusted bounds: (  1.083 , 438.958 )\n",
      "   \n",
      "17 Male Pu E    2.879\n",
      "    Wald bounds: (  1.912 ,  3.846 )\n",
      "Adjusted bounds: (  1.322 ,  6.919 )\n",
      "   \n",
      "18 F:M Pu ER    0.946\n",
      "    Wald bounds: (  0.302 ,  1.590 )\n",
      "Adjusted bounds: (  0.301 ,  1.601 )\n",
      "\n",
      "90 % bounds\n",
      "         \n",
      "1 male    1.721\n",
      "    Wald bounds: (  1.463 ,  1.979 )\n",
      "Adjusted bounds: (  1.459 ,  1.987 )\n",
      "       \n",
      "2 female    1.351\n",
      "    Wald bounds: (  1.106 ,  1.596 )\n",
      "Adjusted bounds: (  1.106 ,  1.597 )\n",
      "       \n",
      "3 lage70    1.592\n",
      "    Wald bounds: (  1.014 ,  2.171 )\n",
      "Adjusted bounds: (  1.012 ,  2.179 )\n",
      "     \n",
      "4 lage70sq   -7.059\n",
      "    Wald bounds: ( -8.600 , -5.518 )\n",
      "Adjusted bounds: ( -8.750 , -5.455 )\n",
      "        \n",
      "5 pky50    7.472\n",
      "    Wald bounds: (  5.370 ,  9.574 )\n",
      "Adjusted bounds: (  4.972 , 10.846 )\n",
      "      \n",
      "6 munksmk    3.720\n",
      "    Wald bounds: (  2.151 ,  5.290 )\n",
      "Adjusted bounds: (  2.123 ,  5.458 )\n",
      "         \n",
      "7 lppd   -0.232\n",
      "    Wald bounds: ( -0.422 , -0.043 )\n",
      "Adjusted bounds: ( -0.422 , -0.043 )\n",
      "         \n",
      "8 xdgy    0.232\n",
      "    Wald bounds: (  0.123 ,  0.340 )\n",
      "Adjusted bounds: (  0.123 ,  0.340 )\n",
      "\n",
      "9 presur_0 fixed/aliased\n",
      "\n",
      "10 presur_1 fixed/aliased\n",
      "\n",
      "11 presur_2 fixed/aliased\n",
      "    \n",
      "12 presur_3   -0.100\n",
      "    Wald bounds: ( -0.290 ,  0.090 )\n",
      "Adjusted bounds: ( -0.290 ,  0.090 )\n",
      "    \n",
      "13 presur_4    0.261\n",
      "    Wald bounds: (  0.065 ,  0.456 )\n",
      "Adjusted bounds: (  0.065 ,  0.456 )\n",
      "    \n",
      "14 presur_5    1.198\n",
      "    Wald bounds: (  0.553 ,  1.843 )\n",
      "Adjusted bounds: (  0.551 ,  1.856 )\n",
      "    \n",
      "15 presur_6    1.638\n",
      "    Wald bounds: (  0.908 ,  2.369 )\n",
      "Adjusted bounds: (  0.755 ,  3.511 )\n",
      "      \n",
      "16 fpsur6    9.946\n",
      "    Wald bounds: (  3.613 , 16.279 )\n",
      "Adjusted bounds: (  1.919 , 277.280 )\n",
      "   \n",
      "17 Male Pu E    2.879\n",
      "    Wald bounds: (  2.067 ,  3.691 )\n",
      "Adjusted bounds: (  1.516 ,  6.074 )\n",
      "   \n",
      "18 F:M Pu ER    0.946\n",
      "    Wald bounds: (  0.405 ,  1.486 )\n",
      "Adjusted bounds: (  0.405 ,  1.495 )\n",
      "\n",
      "68 % bounds\n",
      "         \n",
      "1 male    1.721\n",
      "    Wald bounds: (  1.565 ,  1.877 )\n",
      "Adjusted bounds: (  1.562 ,  1.881 )\n",
      "       \n",
      "2 female    1.351\n",
      "    Wald bounds: (  1.203 ,  1.500 )\n",
      "Adjusted bounds: (  1.203 ,  1.500 )\n",
      "       \n",
      "3 lage70    1.592\n",
      "    Wald bounds: (  1.243 ,  1.942 )\n",
      "Adjusted bounds: (  1.241 ,  1.946 )\n",
      "     \n",
      "4 lage70sq   -7.059\n",
      "    Wald bounds: ( -7.991 , -6.127 )\n",
      "Adjusted bounds: ( -8.070 , -6.081 )\n",
      "        \n",
      "5 pky50    7.472\n",
      "    Wald bounds: (  6.201 ,  8.743 )\n",
      "Adjusted bounds: (  5.901 ,  9.416 )\n",
      "      \n",
      "6 munksmk    3.720\n",
      "    Wald bounds: (  2.771 ,  4.669 )\n",
      "Adjusted bounds: (  2.744 ,  4.750 )\n",
      "         \n",
      "7 lppd   -0.232\n",
      "    Wald bounds: ( -0.347 , -0.118 )\n",
      "Adjusted bounds: ( -0.347 , -0.118 )\n",
      "         \n",
      "8 xdgy    0.232\n",
      "    Wald bounds: (  0.166 ,  0.297 )\n",
      "Adjusted bounds: (  0.166 ,  0.297 )\n",
      "\n",
      "9 presur_0 fixed/aliased\n",
      "\n",
      "10 presur_1 fixed/aliased\n",
      "\n",
      "11 presur_2 fixed/aliased\n",
      "    \n",
      "12 presur_3   -0.100\n",
      "    Wald bounds: ( -0.215 ,  0.015 )\n",
      "Adjusted bounds: ( -0.215 ,  0.015 )\n",
      "    \n",
      "13 presur_4    0.261\n",
      "    Wald bounds: (  0.143 ,  0.379 )\n",
      "Adjusted bounds: (  0.143 ,  0.379 )\n",
      "    \n",
      "14 presur_5    1.198\n",
      "    Wald bounds: (  0.808 ,  1.588 )\n",
      "Adjusted bounds: (  0.806 ,  1.594 )\n",
      "    \n",
      "15 presur_6    1.638\n",
      "    Wald bounds: (  1.197 ,  2.080 )\n",
      "Adjusted bounds: (  1.064 ,  2.655 )\n",
      "      \n",
      "16 fpsur6    9.946\n",
      "    Wald bounds: (  6.117 , 13.775 )\n",
      "Adjusted bounds: (  5.475 , 107.066 )\n",
      "   \n",
      "17 Male Pu E    2.879\n",
      "    Wald bounds: (  2.388 ,  3.370 )\n",
      "Adjusted bounds: (  2.006 ,  4.637 )\n",
      "   \n",
      "18 F:M Pu ER    0.946\n",
      "    Wald bounds: (  0.619 ,  1.273 )\n",
      "Adjusted bounds: (  0.618 ,  1.276 )\n",
      "\n",
      "99 % bounds\n",
      "         \n",
      "1 male    1.721\n",
      "    Wald bounds: (  1.317 ,  2.125 )\n",
      "Adjusted bounds: (  1.312 ,  2.139 )\n",
      "       \n",
      "2 female    1.351\n",
      "    Wald bounds: (  0.968 ,  1.735 )\n",
      "Adjusted bounds: (  0.967 ,  1.736 )\n",
      "       \n",
      "3 lage70    1.592\n",
      "    Wald bounds: (  0.687 ,  2.498 )\n",
      "Adjusted bounds: (  0.686 ,  2.515 )\n",
      "     \n",
      "4 lage70sq   -7.059\n",
      "    Wald bounds: ( -9.473 , -4.645 )\n",
      "Adjusted bounds: ( -9.755 , -4.575 )\n",
      "        \n",
      "5 pky50    7.472\n",
      "    Wald bounds: (  4.180 , 10.764 )\n",
      "Adjusted bounds: (  3.779 , 13.194 )\n",
      "      \n",
      "6 munksmk    3.720\n",
      "    Wald bounds: (  1.262 ,  6.178 )\n",
      "Adjusted bounds: (  1.247 ,  6.531 )\n",
      "         \n",
      "7 lppd   -0.232\n",
      "    Wald bounds: ( -0.529 ,  0.064 )\n",
      "Adjusted bounds: ( -0.529 ,  0.064 )\n",
      "         \n",
      "8 xdgy    0.232\n",
      "    Wald bounds: (  0.062 ,  0.401 )\n",
      "Adjusted bounds: (  0.062 ,  0.402 )\n",
      "\n",
      "9 presur_0 fixed/aliased\n",
      "\n",
      "10 presur_1 fixed/aliased\n",
      "\n",
      "11 presur_2 fixed/aliased\n",
      "    \n",
      "12 presur_3   -0.100\n",
      "    Wald bounds: ( -0.397 ,  0.198 )\n",
      "Adjusted bounds: ( -0.397 ,  0.198 )\n",
      "    \n",
      "13 presur_4    0.261\n",
      "    Wald bounds: ( -0.045 ,  0.567 )\n",
      "Adjusted bounds: ( -0.045 ,  0.567 )\n",
      "    \n",
      "14 presur_5    1.198\n",
      "    Wald bounds: (  0.187 ,  2.208 )\n",
      "Adjusted bounds: (  0.187 ,  2.236 )\n",
      "    \n",
      "15 presur_6    1.638\n",
      "    Wald bounds: (  0.495 ,  2.782 )\n",
      "Adjusted bounds: (  0.408 ,  5.188 )\n",
      "      \n",
      "16 fpsur6    9.946\n",
      "    Wald bounds: (  0.029 , 19.863 )\n",
      "Adjusted bounds: (  0.027 , 1074.722 )\n",
      "   \n",
      "17 Male Pu E    2.879\n",
      "    Wald bounds: (  1.608 ,  4.150 )\n",
      "Adjusted bounds: (  1.007 ,  8.916 )\n",
      "   \n",
      "18 F:M Pu ER    0.946\n",
      "    Wald bounds: (  0.099 ,  1.792 )\n",
      "Adjusted bounds: (  0.099 ,  1.811 )\n"
     ]
    }
   ],
   "source": [
    "modcimprmbnds(mfmodel, cim, level=95)\n",
    "modcimprmbnds(mfmodel, cim, level=90)\n",
    "modcimprmbnds(mfmodel, cim, level=68)\n",
    "modcimprmbnds(mfmodel, cim, level=99)"
   ]
  },
  {
   "cell_type": "code",
   "execution_count": null,
   "metadata": {
    "collapsed": true
   },
   "outputs": [],
   "source": []
  }
 ],
 "metadata": {
  "anaconda-cloud": {},
  "kernelspec": {
   "display_name": "Python [default]",
   "language": "python",
   "name": "python2"
  },
  "language_info": {
   "codemirror_mode": {
    "name": "ipython",
    "version": 2
   },
   "file_extension": ".py",
   "mimetype": "text/x-python",
   "name": "python",
   "nbconvert_exporter": "python",
   "pygments_lexer": "ipython2",
   "version": "2.7.12"
  }
 },
 "nbformat": 4,
 "nbformat_minor": 0
}
